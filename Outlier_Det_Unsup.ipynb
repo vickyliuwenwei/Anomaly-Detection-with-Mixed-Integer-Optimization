{
 "cells": [
  {
   "cell_type": "code",
   "execution_count": 1,
   "metadata": {},
   "outputs": [
    {
     "name": "stderr",
     "output_type": "stream",
     "text": [
      "\u001b[1m\u001b[36mINFO: \u001b[39m\u001b[22m\u001b[36mRecompiling stale cache file /Users/wenweiliu/.julia/lib/v0.6/MLDataUtils.ji for module MLDataUtils.\n",
      "\u001b[39m"
     ]
    }
   ],
   "source": [
    "using JuMP, Gurobi, DataFrames, CSV, MLDataUtils"
   ]
  },
  {
   "cell_type": "code",
   "execution_count": 2,
   "metadata": {},
   "outputs": [],
   "source": [
    "data = CSV.read(\"Ready_insurance.csv\",header = true);"
   ]
  },
  {
   "cell_type": "code",
   "execution_count": 3,
   "metadata": {},
   "outputs": [],
   "source": [
    "X = Matrix(data[1:end - 1])\n",
    "y = data[end];\n",
    "# Split into training, test sets (50%/25%/25%)\n",
    "n = length(y)\n",
    "train_val = round(Int, 0.5 * n)\n",
    "val_test = round(Int, 0.75 * n)\n",
    "# Training set X, y\n",
    "X_train = X[1:train_val - 1, :]\n",
    "y_train = y[1:train_val - 1]\n",
    "# Cross Validation set X, y\n",
    "X_val = X[train_val:val_test - 1, :]\n",
    "y_val = y[train_val:val_test - 1]\n",
    "# Test set X, y\n",
    "X_test = X[val_test:end, :]\n",
    "y_test = y[val_test:end];"
   ]
  },
  {
   "cell_type": "code",
   "execution_count": 4,
   "metadata": {},
   "outputs": [
    {
     "data": {
      "text/plain": [
       "p2_reg_2 (generic function with 1 method)"
      ]
     },
     "execution_count": 4,
     "metadata": {},
     "output_type": "execute_result"
    }
   ],
   "source": [
    "function p2_reg_2(X, y, ρ)\n",
    "    m = Model(solver=GurobiSolver(OutputFlag=0))\n",
    "    \n",
    "    p = size(X, 2)\n",
    "\n",
    "    # Variables\n",
    "    @variable(m, t_1)\n",
    "    @variable(m, t_2)\n",
    "    @variable(m, β[1:p])\n",
    "    \n",
    "    # Constraints\n",
    "    @constraint(m, norm(y - X * β) <= t_1)\n",
    "    @constraint(m, ρ * norm(β) <= t_2)\n",
    "\n",
    "    # Objective\n",
    "    @objective(m, Min, t_1+t_2)\n",
    "\n",
    "    solve(m)\n",
    "    \n",
    "    return getvalue(β)\n",
    "end"
   ]
  },
  {
   "cell_type": "code",
   "execution_count": 5,
   "metadata": {},
   "outputs": [
    {
     "data": {
      "text/plain": [
       "det_outlier (generic function with 1 method)"
      ]
     },
     "execution_count": 5,
     "metadata": {},
     "output_type": "execute_result"
    }
   ],
   "source": [
    "function det_outlier(X,K)\n",
    "    n, p = size(X)\n",
    "    m = Model(solver = GurobiSolver(OutputFlag=0))\n",
    "    @variable(m, z[1:n], Bin);\n",
    "    @constraint(m, sum(z) == (n-K));\n",
    "    @objective(m,Min,sum(((X.-median(X,1)).*z).^2))\n",
    "    solve(m)\n",
    "    return(getobjectivevalue(m),getvalue(z))\n",
    "end"
   ]
  },
  {
   "cell_type": "code",
   "execution_count": 6,
   "metadata": {},
   "outputs": [
    {
     "name": "stdout",
     "output_type": "stream",
     "text": [
      "Academic license - for non-commercial use only\n",
      "With pentalty: 0.001\n",
      "R-squared for traning: 0.30273981088120006\n",
      "R-squared for cross-validation: 0.6233004966378886\n",
      "Academic license - for non-commercial use only\n",
      "With pentalty: 0.01\n",
      "R-squared for traning: 0.30273920543070565\n",
      "R-squared for cross-validation: 0.6233028267061882\n",
      "Academic license - for non-commercial use only\n",
      "With pentalty: 0.1\n",
      "R-squared for traning: 0.3026702314547206\n",
      "R-squared for cross-validation: 0.6233909150781914\n",
      "Academic license - for non-commercial use only\n",
      "With pentalty: 1.0\n",
      "R-squared for traning: 0.2959056785552684\n",
      "R-squared for cross-validation: 0.6211829201913291\n",
      "Academic license - for non-commercial use only\n",
      "With pentalty: 2.0\n",
      "R-squared for traning: 0.2755756134943198\n",
      "R-squared for cross-validation: 0.6125429201116139\n"
     ]
    }
   ],
   "source": [
    "ρ_list = [0.001, 0.01, 0.1, 1, 2]\n",
    "for i in 1:5\n",
    "    β_soln = p2_reg_2(X_train, y_train, ρ_list[i])\n",
    "    y_hat_train = X_train*β_soln\n",
    "    R2_train = 1 - sum((y_hat_train - y_train).^2) / sum((mean(y_train) - y_train).^2)\n",
    "    y_hat_val = X_val*β_soln\n",
    "    R2_val = 1 - sum((y_hat_val - y_val).^2) / sum((mean(y_train) - y_train).^2)\n",
    "    println(\"With pentalty: \",ρ_list[i])\n",
    "    println(\"R-squared for traning: \", R2_train)\n",
    "    println(\"R-squared for cross-validation: \", R2_val)\n",
    "end"
   ]
  },
  {
   "cell_type": "code",
   "execution_count": 8,
   "metadata": {},
   "outputs": [
    {
     "data": {
      "text/plain": [
       "(668, 11)"
      ]
     },
     "execution_count": 8,
     "metadata": {},
     "output_type": "execute_result"
    }
   ],
   "source": [
    "n, p = size(X_train)\n",
    "for i in 1:\n",
    "# obj_out, z_list = det_outlier(X_train,)\n",
    "# X_train2 = X_train[]"
   ]
  },
  {
   "cell_type": "code",
   "execution_count": null,
   "metadata": {},
   "outputs": [],
   "source": []
  }
 ],
 "metadata": {
  "kernelspec": {
   "display_name": "Julia 0.6.4",
   "language": "julia",
   "name": "julia-0.6"
  },
  "language_info": {
   "file_extension": ".jl",
   "mimetype": "application/julia",
   "name": "julia",
   "version": "0.6.4"
  }
 },
 "nbformat": 4,
 "nbformat_minor": 2
}
