{
 "cells": [
  {
   "cell_type": "code",
   "execution_count": 2,
   "metadata": {},
   "outputs": [],
   "source": [
    "using JuMP, Gurobi, DataFrames, CSV"
   ]
  },
  {
   "cell_type": "markdown",
   "metadata": {},
   "source": [
    "# Housing"
   ]
  },
  {
   "cell_type": "code",
   "execution_count": 128,
   "metadata": {},
   "outputs": [],
   "source": [
    "data = CSV.read(\"housing.csv\",header = false);"
   ]
  },
  {
   "cell_type": "code",
   "execution_count": 129,
   "metadata": {},
   "outputs": [
    {
     "name": "stdout",
     "output_type": "stream",
     "text": [
      "252"
     ]
    }
   ],
   "source": [
    "X = Matrix(data[:,1:end-1])\n",
    "y = data[:,end];\n",
    "n,p = size(X)\n",
    "\n",
    "train_n = round(Int, 0.5 * n)\n",
    "val_n = round(Int, 0.75 * n)\n",
    "\n",
    "# Training set X, y\n",
    "y_train = y[1:train_n - 1]\n",
    "X_train = X[1:train_n - 1, :]\n",
    "# Cross Validation set X, y\n",
    "y_validation = y[train_n:val_n - 1]\n",
    "X_validation = X[train_n:val_n - 1, :]\n",
    "# Test set X, y\n",
    "y_test = y[val_n:end];\n",
    "X_test = X[val_n:end, :]\n",
    "n, p = size(X_train)\n",
    "print(n)"
   ]
  },
  {
   "cell_type": "code",
   "execution_count": 4,
   "metadata": {},
   "outputs": [
    {
     "data": {
      "text/plain": [
       "reg_outlier (generic function with 1 method)"
      ]
     },
     "execution_count": 4,
     "metadata": {},
     "output_type": "execute_result"
    }
   ],
   "source": [
    "function reg_outlier(X,y,K)\n",
    "    n, p = size(X)\n",
    "    m = Model(solver = GurobiSolver(OutputFlag=0))\n",
    "    M = 1000\n",
    "\n",
    "    @variable(m, β[1:p]);\n",
    "    @variable(m, z[1:p], Bin);\n",
    "    @constraint(m, sum(z[j] for j = 1:p) <= K);\n",
    "    @constraint(m, m_gt[j=1:p], β[j] <= M * z[j]);\n",
    "    @constraint(m, m_lt[j=1:p], -M * z[j] <= β[j]);\n",
    "   \n",
    "    a = 0\n",
    "    for i = 1:n\n",
    "        a += 0.5(y[i] - dot(β, vec(X_train[i,:])))^2\n",
    "    end\n",
    "    @objective(m,Min,a)\n",
    "    solve(m)\n",
    "    return(getobjectivevalue(m),getvalue(β))\n",
    "end"
   ]
  },
  {
   "cell_type": "code",
   "execution_count": 15,
   "metadata": {},
   "outputs": [
    {
     "data": {
      "text/plain": [
       "det_outlier (generic function with 1 method)"
      ]
     },
     "execution_count": 15,
     "metadata": {},
     "output_type": "execute_result"
    }
   ],
   "source": [
    "function det_outlier(X,y,K,β,M)\n",
    "    n, p = size(X)\n",
    "    m = Model(solver = GurobiSolver(OutputFlag=0))\n",
    "    \n",
    "    @variable(m, ϵ[1:n]>=0);\n",
    "    @variable(m, t[1:n], Bin);\n",
    "    \n",
    "    @constraint(m, sum(t[i] for i = 1:n) <= K);\n",
    "    \n",
    "    for i = 1:n\n",
    "        @constraint(m, 0.5*(y[i] - dot(β, vec(X_train[i,:])))^2 - M*t[i] <= ϵ[i]);\n",
    "        @constraint(m, -M*(1-t[i]) <= ϵ[i])\n",
    "        @constraint(m, ϵ[i] <= M*(1-t[i]))\n",
    "    end\n",
    "    \n",
    "    @objective(m,Min,sum(ϵ[i] for i=1:n))\n",
    "    solve(m)\n",
    "    return(getobjectivevalue(m),getvalue(t))\n",
    "end"
   ]
  },
  {
   "cell_type": "code",
   "execution_count": 132,
   "metadata": {},
   "outputs": [
    {
     "name": "stdout",
     "output_type": "stream",
     "text": [
      "Academic license - for non-commercial use only\n",
      "Academic license - for non-commercial use only\n",
      "error: 20.0\n",
      "Iteration: 2\n",
      "Academic license - for non-commercial use only\n",
      "Academic license - for non-commercial use only\n",
      "error: 22.0\n",
      "Iteration: 3\n",
      "Academic license - for non-commercial use only\n",
      "Academic license - for non-commercial use only\n",
      "error: 8.0\n",
      "Iteration: 4\n",
      "Academic license - for non-commercial use only\n",
      "Academic license - for non-commercial use only\n",
      "error: 4.0\n",
      "Iteration: 5\n"
     ]
    }
   ],
   "source": [
    "X_train1 = X_train\n",
    "y_train1 = y_train\n",
    "z1 = zeros(length(y_train))\n",
    "err = length(y_train)\n",
    "iter = 1\n",
    "while err > 5 | iter < 15\n",
    "    objective, β = reg_outlier(X_train1,y_train1,10)\n",
    "    objective, z = det_outlier(X_train,y_train,20,β,1000)\n",
    "    err = sum(abs.(z1 - z))\n",
    "    z1 = z\n",
    "    println(\"error: \",err)\n",
    "    X_train1 = X_train[z.==0,:]\n",
    "    y_train1 = y_train[z.==0,:]\n",
    "    iter += 1\n",
    "    println(\"Iteration: \", iter)\n",
    "end"
   ]
  },
  {
   "cell_type": "code",
   "execution_count": 19,
   "metadata": {},
   "outputs": [
    {
     "data": {
      "text/plain": [
       "p2linear1 (generic function with 1 method)"
      ]
     },
     "execution_count": 19,
     "metadata": {},
     "output_type": "execute_result"
    }
   ],
   "source": [
    "function p2linear1(X, y, ρ)\n",
    "    m = Model(solver=GurobiSolver(OutputFlag=0))\n",
    "    p = size(X, 2)\n",
    "    @variable(m, t)\n",
    "    @variable(m, β[1:p])\n",
    "    @variable(m, a[1:p])\n",
    "    @constraint(m, norm(y - X * β) <= t)\n",
    "    for i = 1:p\n",
    "        @constraint(m, β[i] <= a[i])\n",
    "        @constraint(m, -β[i] <= a[i])\n",
    "        @constraint(m, a[i] >= 0)\n",
    "    end\n",
    "    @objective(m, Min, t + ρ*sum(a[i] for i = 1:p))\n",
    "    solve(m)\n",
    "    return getvalue(β)\n",
    "end"
   ]
  },
  {
   "cell_type": "code",
   "execution_count": 11,
   "metadata": {},
   "outputs": [
    {
     "name": "stdout",
     "output_type": "stream",
     "text": [
      "Academic license - for non-commercial use only\n",
      "Academic license - for non-commercial use only\n",
      "Academic license - for non-commercial use only\n",
      "Academic license - for non-commercial use only\n",
      "mse before:26.433378883667917\n",
      "mse after:22.298276534890046\n"
     ]
    }
   ],
   "source": [
    "sum(z1)\n",
    "X_train1 = X_train[z1.==0,:];\n",
    "y_train1 = y_train[z1.==0,:];\n",
    "objective, β_outlier = reg_outlier(X_train1,y_train1,10)\n",
    "objective, β = reg_outlier(X_train,y_train,10)\n",
    "mse_before = mean((y_test - X_test * p2linear1(X_train, y_train, 1)).^2)\n",
    "mse_after = mean((y_test - X_test * p2linear1(X_train1, y_train1, 1)).^2)\n",
    "println(\"mse before:\",mse_before)\n",
    "println(\"mse after:\",mse_after)"
   ]
  },
  {
   "cell_type": "markdown",
   "metadata": {},
   "source": [
    "# Cancer"
   ]
  },
  {
   "cell_type": "code",
   "execution_count": 42,
   "metadata": {},
   "outputs": [],
   "source": [
    "data = CSV.read(\"cancer_reg.csv\",header = true);\n",
    "data = dropmissing(data)\n",
    "X = data[.~[(x in [:target_deathrate, :binnedinc, :geography]) for x in names(data)]]\n",
    "X = Matrix(X)\n",
    "y = data[3];"
   ]
  },
  {
   "cell_type": "code",
   "execution_count": 43,
   "metadata": {},
   "outputs": [
    {
     "name": "stdout",
     "output_type": "stream",
     "text": [
      "obs: 472\n",
      "Dimension: 30\n"
     ]
    }
   ],
   "source": [
    "n,p = size(X)\n",
    "\n",
    "train_n = round(Int, 0.8 * n)\n",
    "\n",
    "y_train = y[1:train_n - 1]\n",
    "X_train = X[1:train_n - 1, :]\n",
    "\n",
    "y_test = y[train_n:end];\n",
    "X_test = X[train_n:end, :]\n",
    "n, p = size(X_train)\n",
    "println(\"obs: \",n)\n",
    "println(\"Dimension: \",p)"
   ]
  },
  {
   "cell_type": "code",
   "execution_count": 122,
   "metadata": {},
   "outputs": [
    {
     "name": "stdout",
     "output_type": "stream",
     "text": [
      "Academic license - for non-commercial use only\n",
      "Academic license - for non-commercial use only\n",
      "error: 0.0\n",
      "Iteration: 2\n"
     ]
    }
   ],
   "source": [
    "X_train1 = X_train\n",
    "y_train1 = y_train\n",
    "z1 = zeros(length(y_train))\n",
    "err = length(y_train)\n",
    "iter = 1\n",
    "M = 1000\n",
    "while err > 5 | iter < 15\n",
    "    objective, β = reg_outlier(X_train1,y_train1,25)\n",
    "    objective, z = det_outlier(X_train,y_train,40,β,M)\n",
    "    err = sum(abs.(z1 - z))\n",
    "    z1 = z\n",
    "    println(\"error: \",err)\n",
    "    X_train1 = X_train[z.==0,:]\n",
    "    y_train1 = y_train[z.==0,:]\n",
    "    iter += 1\n",
    "    println(\"Iteration: \", iter)\n",
    "end"
   ]
  },
  {
   "cell_type": "code",
   "execution_count": 46,
   "metadata": {},
   "outputs": [
    {
     "name": "stdout",
     "output_type": "stream",
     "text": [
      "Total outlier: 40.0\n",
      "Academic license - for non-commercial use only\n",
      "Academic license - for non-commercial use only\n",
      "Academic license - for non-commercial use only\n",
      "Academic license - for non-commercial use only\n",
      "mse before:573.8465763838767\n",
      "mse after:519.3665784623928\n"
     ]
    }
   ],
   "source": [
    "println(\"Total outlier: \",sum(z1))\n",
    "X_train1 = X_train[z1.==0,:];\n",
    "y_train1 = y_train[z1.==0,:];\n",
    "mse_before = mean((y_test - X_test * p2linear1(X_train, y_train, 1)).^2)\n",
    "mse_after = mean((y_test - X_test * p2linear1(X_train1, y_train1, 1)).^2)\n",
    "println(\"mse before:\",mse_before)\n",
    "println(\"mse after:\",mse_after)"
   ]
  },
  {
   "cell_type": "markdown",
   "metadata": {},
   "source": [
    "# Crime Data"
   ]
  },
  {
   "cell_type": "code",
   "execution_count": 152,
   "metadata": {},
   "outputs": [],
   "source": [
    "crime = CSV.read(\"communities-and-crime.csv\", header = false)\n",
    "X = Matrix(crime[1:end - 1])\n",
    "y = crime[end];"
   ]
  },
  {
   "cell_type": "code",
   "execution_count": 153,
   "metadata": {},
   "outputs": [
    {
     "name": "stdout",
     "output_type": "stream",
     "text": [
      "obs: 97\n",
      "Dimension: 122\n"
     ]
    }
   ],
   "source": [
    "n,p = size(X)\n",
    "\n",
    "train_n = round(Int, 0.8 * n)\n",
    "\n",
    "y_train = y[1:train_n - 1]\n",
    "X_train = X[1:train_n - 1, :]\n",
    "\n",
    "y_test = y[train_n:end];\n",
    "X_test = X[train_n:end, :]\n",
    "n, p = size(X_train)\n",
    "println(\"obs: \",n)\n",
    "println(\"Dimension: \",p)"
   ]
  },
  {
   "cell_type": "code",
   "execution_count": 154,
   "metadata": {},
   "outputs": [
    {
     "data": {
      "text/plain": [
       "det_out_spe (generic function with 1 method)"
      ]
     },
     "execution_count": 154,
     "metadata": {},
     "output_type": "execute_result"
    }
   ],
   "source": [
    "function det_out_spe(X,y,K,β,M)\n",
    "    n, p = size(X)\n",
    "    m = Model(solver = GurobiSolver(OutputFlag=0))\n",
    "    \n",
    "    @variable(m, ϵ[1:n]>=0);\n",
    "    @variable(m, t[1:n], Bin);\n",
    "    \n",
    "    @constraint(m, sum(t[i] for i = 1:n) == K);\n",
    "    \n",
    "    for i = 1:n\n",
    "        @constraint(m, 0.5*(y[i] - dot(β, vec(X_train[i,:])))^2 - M*t[i] <= ϵ[i]);\n",
    "        @constraint(m, -M*(1-t[i]) <= ϵ[i])\n",
    "        @constraint(m, ϵ[i] <= M*(1-t[i]))\n",
    "    end\n",
    "    \n",
    "    @objective(m,Min,sum(ϵ[i] for i=1:n))\n",
    "    solve(m)\n",
    "    return(getobjectivevalue(m),getvalue(t))\n",
    "end"
   ]
  },
  {
   "cell_type": "code",
   "execution_count": 155,
   "metadata": {},
   "outputs": [
    {
     "name": "stdout",
     "output_type": "stream",
     "text": [
      "Academic license - for non-commercial use only\n",
      "Academic license - for non-commercial use only\n"
     ]
    },
    {
     "data": {
      "text/plain": [
       "(0.0, [0.0, 0.0, 0.0, 0.0, 0.0, 0.0, 0.0, 0.0, 0.0, 0.0  …  0.0, 0.0, 0.0, 0.0, 0.0, 0.0, 0.0, 0.0, 0.0, 0.0])"
      ]
     },
     "execution_count": 155,
     "metadata": {},
     "output_type": "execute_result"
    }
   ],
   "source": [
    "X_train1 = X_train\n",
    "y_train1 = y_train\n",
    "err = length(y_train)\n",
    "iter = 0\n",
    "M = 100\n",
    "objective, β = reg_outlier(X_train1,y_train1,100)\n",
    "objective, z1 = det_out_spe(X_train,y_train,5,β,M)"
   ]
  },
  {
   "cell_type": "code",
   "execution_count": 156,
   "metadata": {},
   "outputs": [
    {
     "name": "stdout",
     "output_type": "stream",
     "text": [
      "Total outlier: 5.0\n",
      "Academic license - for non-commercial use only\n",
      "Academic license - for non-commercial use only\n",
      "mse before:0.01838653196800799\n",
      "mse after:0.020140679978177322\n"
     ]
    }
   ],
   "source": [
    "println(\"Total outlier: \",sum(z1))\n",
    "X_train1 = X_train[z1.==0,:];\n",
    "y_train1 = y_train[z1.==0,:];\n",
    "mse_before = mean((y_test - X_test * p2linear1(X_train, y_train, 1)).^2)\n",
    "mse_after = mean((y_test - X_test * p2linear1(X_train1, y_train1, 1)).^2)\n",
    "println(\"mse before:\",mse_before)\n",
    "println(\"mse after:\",mse_after)"
   ]
  },
  {
   "cell_type": "markdown",
   "metadata": {},
   "source": [
    "# Abalone"
   ]
  },
  {
   "cell_type": "code",
   "execution_count": 142,
   "metadata": {},
   "outputs": [],
   "source": [
    "data = CSV.read(\"abalone.csv\",header=true)\n",
    "X = data[.~[(x in [:Whole_weight]) for x in names(data)]]\n",
    "X = Matrix(X)[:,2:end]\n",
    "y = data[5];"
   ]
  },
  {
   "cell_type": "code",
   "execution_count": 143,
   "metadata": {},
   "outputs": [
    {
     "name": "stdout",
     "output_type": "stream",
     "text": [
      "obs: 3337\n",
      "Dimension: 9\n"
     ]
    }
   ],
   "source": [
    "n,p = size(X)\n",
    "\n",
    "train_n = round(Int, 0.8 * n)\n",
    "\n",
    "y_train = y[1:train_n - 1]\n",
    "X_train = X[1:train_n - 1, :]\n",
    "\n",
    "y_test = y[train_n:end];\n",
    "X_test = X[train_n:end, :]\n",
    "n, p = size(X_train)\n",
    "println(\"obs: \",n)\n",
    "println(\"Dimension: \",p)"
   ]
  },
  {
   "cell_type": "code",
   "execution_count": null,
   "metadata": {},
   "outputs": [],
   "source": [
    "# X_train1 = X_train\n",
    "# y_train1 = y_train\n",
    "# z1 = zeros(length(y_train))\n",
    "# err = length(y_train)\n",
    "# iter = 1\n",
    "# M = 1000000000\n",
    "# while err > 5 | iter < 15\n",
    "#     objective, β = reg_outlier(X_train1,y_train1,9)\n",
    "#     objective, z = det_out_spe(X_train,y_train,50,β,M)\n",
    "#     err = sum(abs.(z1 - z))\n",
    "#     z1 = z\n",
    "#     println(\"error: \",err)\n",
    "#     X_train1 = X_train[z.==0,:]\n",
    "#     y_train1 = y_train[z.==0,:]\n",
    "#     iter += 1\n",
    "#     println(\"Iteration: \", iter)\n",
    "# end"
   ]
  },
  {
   "cell_type": "markdown",
   "metadata": {},
   "source": [
    "# Insurance"
   ]
  },
  {
   "cell_type": "code",
   "execution_count": 70,
   "metadata": {},
   "outputs": [],
   "source": [
    "data = CSV.read(\"Ready_insurance.csv\",header=true)\n",
    "X = data[.~[(x in [:charges]) for x in names(data)]]\n",
    "X = Matrix(X)[:,2:end]\n",
    "y = data[5];"
   ]
  },
  {
   "cell_type": "code",
   "execution_count": 71,
   "metadata": {},
   "outputs": [
    {
     "name": "stdout",
     "output_type": "stream",
     "text": [
      "obs: 1069\n",
      "Dimension: 10\n"
     ]
    }
   ],
   "source": [
    "n,p = size(X)\n",
    "\n",
    "train_n = round(Int, 0.8 * n)\n",
    "\n",
    "y_train = y[1:train_n - 1]\n",
    "X_train = X[1:train_n - 1, :]\n",
    "\n",
    "y_test = y[train_n:end];\n",
    "X_test = X[train_n:end, :]\n",
    "n, p = size(X_train)\n",
    "println(\"obs: \",n)\n",
    "println(\"Dimension: \",p)"
   ]
  },
  {
   "cell_type": "code",
   "execution_count": 76,
   "metadata": {},
   "outputs": [
    {
     "name": "stdout",
     "output_type": "stream",
     "text": [
      "Academic license - for non-commercial use only\n",
      "Academic license - for non-commercial use only\n",
      "error: 1.0\n",
      "Iteration: 2\n"
     ]
    }
   ],
   "source": [
    "X_train1 = X_train\n",
    "y_train1 = y_train\n",
    "z1 = zeros(length(y_train))\n",
    "err = length(y_train)\n",
    "iter = 1\n",
    "while err > 5 | iter < 15\n",
    "    β = p2linear1(X_train, y_train, 1)\n",
    "    objective, z = det_outlier(X_train,y_train,1,β,100000000000)\n",
    "    err = sum(abs.(z1 - z))\n",
    "    z1 = z\n",
    "    println(\"error: \",err)\n",
    "    X_train1 = X_train[z.==0,:]\n",
    "    y_train1 = y_train[z.==0,:]\n",
    "    iter += 1\n",
    "    println(\"Iteration: \", iter)\n",
    "end"
   ]
  },
  {
   "cell_type": "code",
   "execution_count": 77,
   "metadata": {},
   "outputs": [
    {
     "name": "stdout",
     "output_type": "stream",
     "text": [
      "Total outlier: 1.0\n",
      "Academic license - for non-commercial use only\n",
      "Academic license - for non-commercial use only\n",
      "mse before:4.182800335779048e7\n",
      "mse after:4.1916289253386356e7\n"
     ]
    }
   ],
   "source": [
    "println(\"Total outlier: \",sum(z1))\n",
    "X_train1 = X_train[z1.==0,:];\n",
    "y_train1 = y_train[z1.==0,:];\n",
    "mse_before = mean((y_test - X_test * p2linear1(X_train, y_train, 1)).^2)\n",
    "mse_after = mean((y_test - X_test * p2linear1(X_train1, y_train1, 1)).^2)\n",
    "println(\"mse before:\",mse_before)\n",
    "println(\"mse after:\",mse_after)"
   ]
  },
  {
   "cell_type": "markdown",
   "metadata": {},
   "source": [
    "# House"
   ]
  },
  {
   "cell_type": "code",
   "execution_count": 52,
   "metadata": {},
   "outputs": [
    {
     "name": "stderr",
     "output_type": "stream",
     "text": [
      "\u001b[1m\u001b[33mWARNING: \u001b[39m\u001b[22m\u001b[33mreadtable is deprecated, use CSV.read from the CSV package instead\u001b[39m\n",
      "Stacktrace:\n",
      " [1] \u001b[1mdepwarn\u001b[22m\u001b[22m\u001b[1m(\u001b[22m\u001b[22m::String, ::Symbol\u001b[1m)\u001b[22m\u001b[22m at \u001b[1m./deprecated.jl:70\u001b[22m\u001b[22m\n",
      " [2] \u001b[1m#readtable#232\u001b[22m\u001b[22m\u001b[1m(\u001b[22m\u001b[22m::Bool, ::Char, ::Array{Char,1}, ::Char, ::Array{String,1}, ::Array{String,1}, ::Array{String,1}, ::Bool, ::Int64, ::Array{Symbol,1}, ::Array{Any,1}, ::Bool, ::Char, ::Bool, ::Int64, ::Array{Int64,1}, ::Bool, ::Symbol, ::Bool, ::Bool, ::DataFrames.#readtable, ::String\u001b[1m)\u001b[22m\u001b[22m at \u001b[1m/Users/wenweiliu/.julia/v0.6/DataFrames/src/deprecated.jl:1045\u001b[22m\u001b[22m\n",
      " [3] \u001b[1mreadtable\u001b[22m\u001b[22m\u001b[1m(\u001b[22m\u001b[22m::String\u001b[1m)\u001b[22m\u001b[22m at \u001b[1m/Users/wenweiliu/.julia/v0.6/DataFrames/src/deprecated.jl:1045\u001b[22m\u001b[22m\n",
      " [4] \u001b[1minclude_string\u001b[22m\u001b[22m\u001b[1m(\u001b[22m\u001b[22m::String, ::String\u001b[1m)\u001b[22m\u001b[22m at \u001b[1m./loading.jl:522\u001b[22m\u001b[22m\n",
      " [5] \u001b[1msoftscope_include_string\u001b[22m\u001b[22m\u001b[1m(\u001b[22m\u001b[22m::Module, ::String, ::String\u001b[1m)\u001b[22m\u001b[22m at \u001b[1m/Users/wenweiliu/.julia/v0.6/SoftGlobalScope/src/SoftGlobalScope.jl:66\u001b[22m\u001b[22m\n",
      " [6] \u001b[1mexecute_request\u001b[22m\u001b[22m\u001b[1m(\u001b[22m\u001b[22m::ZMQ.Socket, ::IJulia.Msg\u001b[1m)\u001b[22m\u001b[22m at \u001b[1m/Users/wenweiliu/.julia/v0.6/IJulia/src/execute_request.jl:193\u001b[22m\u001b[22m\n",
      " [7] \u001b[1m(::Compat.#inner#6{Array{Any,1},IJulia.#execute_request,Tuple{ZMQ.Socket,IJulia.Msg}})\u001b[22m\u001b[22m\u001b[1m(\u001b[22m\u001b[22m\u001b[1m)\u001b[22m\u001b[22m at \u001b[1m/Users/wenweiliu/.julia/v0.6/Compat/src/Compat.jl:189\u001b[22m\u001b[22m\n",
      " [8] \u001b[1meventloop\u001b[22m\u001b[22m\u001b[1m(\u001b[22m\u001b[22m::ZMQ.Socket\u001b[1m)\u001b[22m\u001b[22m at \u001b[1m/Users/wenweiliu/.julia/v0.6/IJulia/src/eventloop.jl:8\u001b[22m\u001b[22m\n",
      " [9] \u001b[1m(::IJulia.##13#16)\u001b[22m\u001b[22m\u001b[1m(\u001b[22m\u001b[22m\u001b[1m)\u001b[22m\u001b[22m at \u001b[1m./task.jl:335\u001b[22m\u001b[22m\n",
      "while loading In[52], in expression starting on line 1\n",
      "\u001b[1m\u001b[33mWARNING: \u001b[39m\u001b[22m\u001b[33mreadtable is deprecated, use CSV.read from the CSV package instead\u001b[39m\n",
      "Stacktrace:\n",
      " [1] \u001b[1mdepwarn\u001b[22m\u001b[22m\u001b[1m(\u001b[22m\u001b[22m::String, ::Symbol\u001b[1m)\u001b[22m\u001b[22m at \u001b[1m./deprecated.jl:70\u001b[22m\u001b[22m\n",
      " [2] \u001b[1m#readtable#232\u001b[22m\u001b[22m\u001b[1m(\u001b[22m\u001b[22m::Bool, ::Char, ::Array{Char,1}, ::Char, ::Array{String,1}, ::Array{String,1}, ::Array{String,1}, ::Bool, ::Int64, ::Array{Symbol,1}, ::Array{Any,1}, ::Bool, ::Char, ::Bool, ::Int64, ::Array{Int64,1}, ::Bool, ::Symbol, ::Bool, ::Bool, ::DataFrames.#readtable, ::String\u001b[1m)\u001b[22m\u001b[22m at \u001b[1m/Users/wenweiliu/.julia/v0.6/DataFrames/src/deprecated.jl:1045\u001b[22m\u001b[22m\n",
      " [3] \u001b[1mreadtable\u001b[22m\u001b[22m\u001b[1m(\u001b[22m\u001b[22m::String\u001b[1m)\u001b[22m\u001b[22m at \u001b[1m/Users/wenweiliu/.julia/v0.6/DataFrames/src/deprecated.jl:1045\u001b[22m\u001b[22m\n",
      " [4] \u001b[1minclude_string\u001b[22m\u001b[22m\u001b[1m(\u001b[22m\u001b[22m::String, ::String\u001b[1m)\u001b[22m\u001b[22m at \u001b[1m./loading.jl:522\u001b[22m\u001b[22m\n",
      " [5] \u001b[1msoftscope_include_string\u001b[22m\u001b[22m\u001b[1m(\u001b[22m\u001b[22m::Module, ::String, ::String\u001b[1m)\u001b[22m\u001b[22m at \u001b[1m/Users/wenweiliu/.julia/v0.6/SoftGlobalScope/src/SoftGlobalScope.jl:66\u001b[22m\u001b[22m\n",
      " [6] \u001b[1mexecute_request\u001b[22m\u001b[22m\u001b[1m(\u001b[22m\u001b[22m::ZMQ.Socket, ::IJulia.Msg\u001b[1m)\u001b[22m\u001b[22m at \u001b[1m/Users/wenweiliu/.julia/v0.6/IJulia/src/execute_request.jl:193\u001b[22m\u001b[22m\n",
      " [7] \u001b[1m(::Compat.#inner#6{Array{Any,1},IJulia.#execute_request,Tuple{ZMQ.Socket,IJulia.Msg}})\u001b[22m\u001b[22m\u001b[1m(\u001b[22m\u001b[22m\u001b[1m)\u001b[22m\u001b[22m at \u001b[1m/Users/wenweiliu/.julia/v0.6/Compat/src/Compat.jl:189\u001b[22m\u001b[22m\n",
      " [8] \u001b[1meventloop\u001b[22m\u001b[22m\u001b[1m(\u001b[22m\u001b[22m::ZMQ.Socket\u001b[1m)\u001b[22m\u001b[22m at \u001b[1m/Users/wenweiliu/.julia/v0.6/IJulia/src/eventloop.jl:8\u001b[22m\u001b[22m\n",
      " [9] \u001b[1m(::IJulia.##13#16)\u001b[22m\u001b[22m\u001b[1m(\u001b[22m\u001b[22m\u001b[1m)\u001b[22m\u001b[22m at \u001b[1m./task.jl:335\u001b[22m\u001b[22m\n",
      "while loading In[52], in expression starting on line 2\n",
      "\u001b[1m\u001b[33mWARNING: \u001b[39m\u001b[22m\u001b[33m~(A::AbstractArray) is deprecated, use .~(A) instead.\u001b[39m\n",
      "Stacktrace:\n",
      " [1] \u001b[1mdepwarn\u001b[22m\u001b[22m\u001b[1m(\u001b[22m\u001b[22m::String, ::Symbol\u001b[1m)\u001b[22m\u001b[22m at \u001b[1m./deprecated.jl:70\u001b[22m\u001b[22m\n",
      " [2] \u001b[1m~\u001b[22m\u001b[22m\u001b[1m(\u001b[22m\u001b[22m::Array{Bool,1}\u001b[1m)\u001b[22m\u001b[22m at \u001b[1m./deprecated.jl:57\u001b[22m\u001b[22m\n",
      " [3] \u001b[1minclude_string\u001b[22m\u001b[22m\u001b[1m(\u001b[22m\u001b[22m::String, ::String\u001b[1m)\u001b[22m\u001b[22m at \u001b[1m./loading.jl:522\u001b[22m\u001b[22m\n",
      " [4] \u001b[1msoftscope_include_string\u001b[22m\u001b[22m\u001b[1m(\u001b[22m\u001b[22m::Module, ::String, ::String\u001b[1m)\u001b[22m\u001b[22m at \u001b[1m/Users/wenweiliu/.julia/v0.6/SoftGlobalScope/src/SoftGlobalScope.jl:66\u001b[22m\u001b[22m\n",
      " [5] \u001b[1mexecute_request\u001b[22m\u001b[22m\u001b[1m(\u001b[22m\u001b[22m::ZMQ.Socket, ::IJulia.Msg\u001b[1m)\u001b[22m\u001b[22m at \u001b[1m/Users/wenweiliu/.julia/v0.6/IJulia/src/execute_request.jl:193\u001b[22m\u001b[22m\n",
      " [6] \u001b[1m(::Compat.#inner#6{Array{Any,1},IJulia.#execute_request,Tuple{ZMQ.Socket,IJulia.Msg}})\u001b[22m\u001b[22m\u001b[1m(\u001b[22m\u001b[22m\u001b[1m)\u001b[22m\u001b[22m at \u001b[1m/Users/wenweiliu/.julia/v0.6/Compat/src/Compat.jl:189\u001b[22m\u001b[22m\n",
      " [7] \u001b[1meventloop\u001b[22m\u001b[22m\u001b[1m(\u001b[22m\u001b[22m::ZMQ.Socket\u001b[1m)\u001b[22m\u001b[22m at \u001b[1m/Users/wenweiliu/.julia/v0.6/IJulia/src/eventloop.jl:8\u001b[22m\u001b[22m\n",
      " [8] \u001b[1m(::IJulia.##13#16)\u001b[22m\u001b[22m\u001b[1m(\u001b[22m\u001b[22m\u001b[1m)\u001b[22m\u001b[22m at \u001b[1m./task.jl:335\u001b[22m\u001b[22m\n",
      "while loading In[52], in expression starting on line 4\n"
     ]
    }
   ],
   "source": [
    "train = readtable(\"housetrain.csv\")\n",
    "test = readtable(\"housetest.csv\")\n",
    "data = [train;test];\n",
    "X = data[~[(x in [:Median_house_value]) for x in names(data)]]\n",
    "X = Matrix(X)\n",
    "y = data[4];"
   ]
  },
  {
   "cell_type": "code",
   "execution_count": 53,
   "metadata": {},
   "outputs": [
    {
     "name": "stdout",
     "output_type": "stream",
     "text": [
      "obs: 8483\n",
      "Dimension: 5\n"
     ]
    }
   ],
   "source": [
    "n,p = size(X)\n",
    "\n",
    "train_n = round(Int, 0.8 * n)\n",
    "\n",
    "y_train = y[1:train_n - 1]\n",
    "X_train = X[1:train_n - 1, :]\n",
    "\n",
    "y_test = y[train_n:end];\n",
    "X_test = X[train_n:end, :]\n",
    "n, p = size(X_train)\n",
    "println(\"obs: \",n)\n",
    "println(\"Dimension: \",p)"
   ]
  },
  {
   "cell_type": "code",
   "execution_count": 66,
   "metadata": {},
   "outputs": [
    {
     "name": "stdout",
     "output_type": "stream",
     "text": [
      "Academic license - for non-commercial use only\n",
      "Academic license - for non-commercial use only\n",
      "error: 10.0\n",
      "Iteration: 2\n",
      "Academic license - for non-commercial use only\n",
      "Academic license - for non-commercial use only\n",
      "error: 0.0\n",
      "Iteration: 3\n"
     ]
    }
   ],
   "source": [
    "X_train1 = X_train\n",
    "y_train1 = y_train\n",
    "z1 = zeros(length(y_train))\n",
    "err = length(y_train)\n",
    "iter = 1\n",
    "while err > 5 | iter < 15\n",
    "    β = p2linear1(X_train, y_train, 1)\n",
    "    objective, z = det_outlier(X_train,y_train,10,β,1000000000000)\n",
    "    err = sum(abs.(z1 - z))\n",
    "    z1 = z\n",
    "    println(\"error: \",err)\n",
    "    X_train1 = X_train[z.==0,:]\n",
    "    y_train1 = y_train[z.==0,:]\n",
    "    iter += 1\n",
    "    println(\"Iteration: \", iter)\n",
    "end"
   ]
  },
  {
   "cell_type": "code",
   "execution_count": 67,
   "metadata": {},
   "outputs": [
    {
     "name": "stdout",
     "output_type": "stream",
     "text": [
      "Total outlier: 10.0\n",
      "Academic license - for non-commercial use only\n",
      "Academic license - for non-commercial use only\n",
      "mse before:13664.100561203422\n",
      "mse after:13661.131550889013\n"
     ]
    }
   ],
   "source": [
    "println(\"Total outlier: \",sum(z1))\n",
    "X_train1 = X_train[z1.==0,:];\n",
    "y_train1 = y_train[z1.==0,:];\n",
    "mse_before = mean((y_test - X_test * p2linear1(X_train, y_train, 1)).^2)\n",
    "mse_after = mean((y_test - X_test * p2linear1(X_train1, y_train1, 1)).^2)\n",
    "println(\"mse before:\",mse_before)\n",
    "println(\"mse after:\",mse_after)"
   ]
  },
  {
   "cell_type": "code",
   "execution_count": null,
   "metadata": {},
   "outputs": [],
   "source": []
  }
 ],
 "metadata": {
  "kernelspec": {
   "display_name": "Julia 0.6.4",
   "language": "julia",
   "name": "julia-0.6"
  },
  "language_info": {
   "file_extension": ".jl",
   "mimetype": "application/julia",
   "name": "julia",
   "version": "0.6.4"
  }
 },
 "nbformat": 4,
 "nbformat_minor": 2
}
